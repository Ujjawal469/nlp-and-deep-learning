{
  "nbformat": 4,
  "nbformat_minor": 0,
  "metadata": {
    "colab": {
      "provenance": []
    },
    "kernelspec": {
      "name": "python3",
      "display_name": "Python 3"
    },
    "language_info": {
      "name": "python"
    }
  },
  "cells": [
    {
      "cell_type": "code",
      "execution_count": null,
      "metadata": {
        "id": "FvT6wJk7pVLD"
      },
      "outputs": [],
      "source": [
        "str = \"\"\"I HAD always thought Jack Gisburn rather a cheap genius--though a good fellow enough--so it was no great surprise to me to hear that, in the height of his glory, he had dropped his painting, married a rich widow, and established himself in a villa on the Riviera. (Though I rather thought it would have been Rome or Florence.)\n",
        "\n",
        "\"The height of his glory\"--that was what the women called it. I can hear Mrs. Gideon Thwing--his last Chicago sitter--deploring his unaccountable abdication. \"Of course it's going to send the value of my picture 'way up; but I don't think of that, Mr. Rickham--the loss to Arrt is all I think of.\" The word, on Mrs. Thwing's lips, multiplied its _rs_ as though they were reflected in an endless vista of mirrors. And it was not only the Mrs. Thwings who mourned. Had not the exquisite Hermia Croft, at the last Grafton Gallery show, stopped me before Gisburn's \"Moon-dancers\" to say, with tears in her eyes: \"We shall not look upon its like again\"?\n",
        "\n",
        "Well!--even through the prism of Hermia's tears I felt able to face the fact with equanimity. Poor Jack Gisburn! The women had made him--it was fitting that they should mourn him. Among his own sex fewer regrets were heard, and in his own trade hardly a murmur. Professional jealousy? Perhaps. If it were, the honour of the craft was vindicated by little Claude Nutley, who, in all good faith, brought out in the Burlington a very handsome \"obituary\" on Jack--one of those showy articles stocked with random technicalities that I have heard (I won't say by whom) compared to Gisburn's painting. And so--his resolve being apparently irrevocable--the discussion gradually died out, and, as Mrs. Thwing had predicted, the price of \"Gisburns\" went up.\n",
        "\n",
        "It was not till three years later that, in the course of a few weeks' idling on the Riviera, it suddenly occurred to me to wonder why Gisburn had given up his painting. On reflection, it really was a tempting problem. To accuse his wife would have been too easy--his fair sitters had been denied the solace of saying that Mrs. Gisburn had \"dragged him down.\" For Mrs. Gisburn--as such--had not existed till nearly a year after Jack's resolve had been taken. It might be that he had married her--since he liked his ease--because he didn't want to go on painting; but it would have been hard to prove that he had given up his painting because he had married her.\n",
        "\n",
        "Of course, if she had not dragged him down, she had equally, as Miss Croft contended, failed to \"lift him up\"--she had not led him back to the easel. To put the brush into his hand again--what a vocation for a wife! But Mrs. Gisburn appeared to have disdained it--and I felt it might be interesting to find out why.\n",
        "\n",
        "The desultory life of the Riviera lends itself to such purely academic speculations; and having, on my way to Monte Carlo, caught a glimpse of Jack's balustraded terraces between the pines, I had myself borne thither the next day.\n",
        "\n",
        "I found the couple at tea beneath their palm-trees; and Mrs. Gisburn's welcome was so genial that, in the ensuing weeks, I claimed it frequently. It was not that my hostess was \"interesting\": on that point I could have given Miss Croft the fullest reassurance. It was just because she was _not_ interesting--if I may be pardoned the bull--that I found her so. For Jack, all his life, had been surrounded by interesting women: they had fostered his art, it had been reared in the hot-house of their adulation. And it was therefore instructive to note what effect the \"deadening atmosphere of mediocrity\" (I quote Miss Croft) was having on him.\n",
        "\n",
        "I have mentioned that Mrs. Gisburn was rich; and it was immediately perceptible that her husband was extracting from this circumstance a delicate but substantial satisfaction. It is, as a rule, the people who scorn money who get most out of it; and Jack's elegant disdain of his wife's big balance enabled him, with an appearance of perfect good-breeding, to transmute it into objects of art and luxury. To the latter, I must add, he remained relatively indifferent; but he was buying Renaissance bronzes and eighteenth-century pictures with a discrimination that bespoke the amplest resources.\n",
        "\n",
        "\"Money's only excuse is to put beauty into circulation,\" was one of the axioms he laid down across the Sevres and silver of an exquisitely appointed luncheon-table, when, on a later day, I had again run over from Monte Carlo; and Mrs. Gisburn, beaming on him, added for my enlightenment: \"Jack is so morbidly sensitive to every form of beauty.\"\n",
        "\n",
        "Poor Jack! It had always been his fate to have women say such things of him: the fact should be set down in extenuation. What struck me now was that, for the first time, he resented the tone. I had seen him, so often, basking under similar tributes--was it the conjugal note that robbed them of their savour? No--for, oddly enough, it became apparent that he was fond of Mrs. Gisburn--fond enough not to see her absurdity. It was his own absurdity he seemed to be wincing under--his own attitude as an object for garlands and incense.\n",
        "\n",
        "\"My dear, since I've chucked painting people don't say that stuff about me--they say it about Victor Grindle,\" was his only protest, as he rose from the table and strolled out onto the sunlit terrace.\n",
        "\n",
        "I glanced after him, struck by his last word. Victor Grindle was, in fact, becoming the man of the moment--as Jack himself, one might put it, had been the man of the hour. The younger artist was said to have formed himself at my friend's feet, and I wondered if a tinge of jealousy underlay the latter's mysterious abdication. But no--for it was not till after that event that the _rose Dubarry_ drawing-rooms had begun to display their \"Grindles.\"\n",
        "\n",
        "I turned to Mrs. Gisburn, who had lingered to give a lump of sugar to her spaniel in the dining-room.\n",
        "\n",
        "\"Why _has_ he chucked painting?\" I asked abruptly.\n",
        "\n",
        "She raised her eyebrows with a hint of good-humoured surprise.\n",
        "\n",
        "\"Oh, he doesn't _have_ to now, you know; and I want him to enjoy himself,\" she said quite simply.\n",
        "\n",
        "I looked about the spacious white-panelled room, with its _famille-verte_ vases repeating the tones of the pale damask curtains, and its eighteenth-century pastels in delicate faded frames.\n",
        "\n",
        "\"Has he chucked his pictures too? I haven't seen a single one in the house.\"\n",
        "\n",
        "A slight shade of constraint crossed Mrs. Gisburn's open countenance. \"It's his ridiculous modesty, you know. He says they're not fit to have about; he's sent them all away except one--my portrait--and that I have to keep upstairs.\"\n",
        "\n",
        "His ridiculous modesty--Jack's modesty about his pictures? My curiosity was growing like the bean-stalk. I said persuasively to my hostess: \"I must really see your portrait, you know.\"\n",
        "\n",
        "She glanced out almost timorously at the terrace where her husband, lounging in a hooded chair, had lit a cigar and drawn the Russian deerhound's head between his knees.\n",
        "\n",
        "\"Well, come while he's not looking,\" she said, with a laugh that tried to hide her nervousness; and I followed her between the marble Emperors of the hall, and up the wide stairs with terra-cotta nymphs poised among flowers at each landing.\n",
        "\n",
        "In the dimmest corner of her boudoir, amid a profusion of delicate and distinguished objects, hung one of the familiar oval canvases, in the inevitable garlanded frame. The mere outline of the frame called up all Gisburn's past!\n",
        "\n",
        "Mrs. Gisburn drew back the window-curtains, moved aside a _jardiniere_ full of pink azaleas, pushed an arm-chair away, and said: \"If you stand here you can just manage to see it. I had it over the mantel-piece, but he wouldn't let it stay.\"\n",
        "\n",
        "Yes--I could just manage to see it--the first portrait of Jack's I had ever had to strain my eyes over! Usually they had the place of honour--say the central panel in a pale yellow or _rose Dubarry_ drawing-room, or a monumental easel placed so that it took the light through curtains of old Venetian point. The more modest place became the picture better; yet, as my eyes grew accustomed to the half-light, all the characteristic qualities came out--all the hesitations disguised as audacities, the tricks of prestidigitation by which, with such consummate skill, he managed to divert attention from the real business of the picture to some pretty irrelevance of detail. Mrs. Gisburn, presenting a neutral surface to work on--forming, as it were, so inevitably the background of her own picture--had lent herself in an unusual degree to the display of this false virtuosity. The picture was one of Jack's \"strongest,\" as his admirers would have put it--it represented, on his part, a swelling of muscles, a congesting of veins, a balancing, straddling and straining, that reminded one of the circus-clown's ironic efforts to lift a feather. It met, in short, at every point the demand of lovely woman to be painted \"strongly\" because she was tired of being painted \"sweetly\"--and yet not to lose an atom of the sweetness.\n",
        "\n",
        "\"It's the last he painted, you know,\" Mrs. Gisburn said with pardonable pride. \"The last but one,\" she corrected herself--\"but the other doesn't count, because he destroyed it.\"\n",
        "\n",
        "\"Destroyed it?\" I was about to follow up this clue when I heard a footstep and saw Jack himself on the threshold.\n",
        "\n",
        "As he stood there, his hands in the pockets of his velveteen coat, the thin brown waves of hair pushed back from his white forehead, his lean sunburnt cheeks furrowed by a smile that lifted the tips of a self-confident moustache, I felt to what a degree he had the same quality as his pictures--the quality of looking cleverer than he was.\n",
        "\n",
        "His wife glanced at him deprecatingly, but his eyes travelled past her to the portrait.\n",
        "\n",
        "\"Mr. Rickham wanted to see it,\" she began, as if excusing herself. He shrugged his shoulders, still smiling.\n",
        "\n",
        "\"Oh, Rickham found me out long ago,\" he said lightly; then, passing his arm through mine: \"Come and see the rest of the house.\"\n",
        "\n",
        "He showed it to me with a kind of naive suburban pride: the bath-rooms, the speaking-tubes, the dress-closets, the trouser-presses--all the complex simplifications of the millionaire's domestic economy. And whenever my wonder paid the expected tribute he said, throwing out his chest a little: \"Yes, I really don't see how people manage to live without that.\"\n",
        "\n",
        "Well--it was just the end one might have foreseen for him. Only he was, through it all and in spite of it all--as he had been through, and in spite of, his pictures--so handsome, so charming, so disarming, that one longed to cry out: \"Be dissatisfied with your leisure!\" as once one had longed to say: \"Be dissatisfied with your work!\"\n",
        "\n",
        "But, with the cry on my lips, my diagnosis suffered an unexpected check.\n",
        "\n",
        "\"This is my own lair,\" he said, leading me into a dark plain room at the end of the florid vista. It was square and brown and leathery: no \"effects\"; no bric-a-brac, none of the air of posing for reproduction in a picture weekly--above all, no least sign of ever having been used as a studio.\n",
        "\n",
        "The fact brought home to me the absolute finality of Jack's break with his old life.\n",
        "\n",
        "\"Don't you ever dabble with paint any more?\" I asked, still looking about for a trace of such activity.\n",
        "\n",
        "\"Never,\" he said briefly.\n",
        "\n",
        "\"Or water-colour--or etching?\"\n",
        "\n",
        "His confident eyes grew dim, and his cheeks paled a little under their handsome sunburn.\n",
        "\n",
        "\"Never think of it, my dear fellow--any more than if I'd never touched a brush.\"\n",
        "\n",
        "And his tone told me in a flash that he never thought of anything else.\n",
        "\n",
        "I moved away, instinctively embarrassed by my unexpected discovery; and as I turned, my eye fell on a small picture above the mantel-piece--the only object breaking the plain oak panelling of the room.\n",
        "\n",
        "\"Oh, by Jove!\" I said.\n",
        "\n",
        "It was a sketch of a donkey--an old tired donkey, standing in the rain under a wall.\n",
        "\n",
        "\"By Jove--a Stroud!\" I cried.\n",
        "\n",
        "He was silent; but I felt him close behind me, breathing a little quickly.\n",
        "\n",
        "\"What a wonder! Made with a dozen lines--but on everlasting foundations. You lucky chap, where did you get it?\"\n",
        "\n",
        "He answered slowly: \"Mrs. Stroud gave it to me.\"\n",
        "\n",
        "\"Ah--I didn't know you even knew the Strouds. He was such an inflexible hermit.\"\n",
        "\n",
        "\"I didn't--till after. . . . She sent for me to paint him when he was dead.\"\n",
        "\n",
        "\"When he was dead? You?\"\n",
        "\n",
        "I must have let a little too much amazement escape through my surprise, for he answered with a deprecating laugh: \"Yes--she's an awful simpleton, you know, Mrs. Stroud. Her only idea was to have him done by a fashionable painter--ah, poor Stroud! She thought it the surest way of proclaiming his greatness--of forcing it on a purblind public. And at the moment I was _the_ fashionable painter.\"\n",
        "\n",
        "\"Ah, poor Stroud--as you say. Was _that_ his history?\"\n",
        "\n",
        "\"That was his history. She believed in him, gloried in him--or thought she did. But she couldn't bear not to have all the drawing-rooms with her. She couldn't bear the fact that, on varnishing days, one could always get near enough to see his pictures. Poor woman! She's just a fragment groping for other fragments. Stroud is the only whole I ever knew.\"\n",
        "\n",
        "\"You ever knew? But you just said--\"\n",
        "\n",
        "Gisburn had a curious smile in his eyes.\n",
        "\n",
        "\"Oh, I knew him, and he knew me--only it happened after he was dead.\"\n",
        "\n",
        "I dropped my voice instinctively. \"When she sent for you?\"\n",
        "\n",
        "\"Yes--quite insensible to the irony. She wanted him vindicated--and by me!\"\n",
        "\n",
        "He laughed again, and threw back his head to look up at the sketch of the donkey. \"There were days when I couldn't look at that thing--couldn't face it. But I forced myself to put it here; and now it's cured me--cured me. That's the reason why I don't dabble any more, my dear Rickham; or rather Stroud himself is the reason.\"\n",
        "\n",
        "For the first time my idle curiosity about my companion turned into a serious desire to understand him better.\n",
        "\n",
        "\"I wish you'd tell me how it happened,\" I said.\n",
        "\n",
        "He stood looking up at the sketch, and twirling between his fingers a cigarette he had forgotten to light. Suddenly he turned toward me.\n",
        "\n",
        "\"I'd rather like to tell you--because I've always suspected you of loathing my work.\"\n",
        "\n",
        "I made a deprecating gesture, which he negatived with a good-humoured shrug.\n",
        "\n",
        "\"Oh, I didn't care a straw when I believed in myself--and now it's an added tie between us!\"\n",
        "\n",
        "He laughed slightly, without bitterness, and pushed one of the deep arm-chairs forward. \"There: make yourself comfortable--and here are the cigars you like.\"\n",
        "\n",
        "He placed them at my elbow and continued to wander up and down the room, stopping now and then beneath the picture.\n",
        "\n",
        "\"How it happened? I can tell you in five minutes--and it didn't take much longer to happen. . . . I can remember now how surprised and pleased I was when I got Mrs. Stroud's note. Of course, deep down, I had always _felt_ there was no one like him--only I had gone with the stream, echoed the usual platitudes about him, till I half got to think he was a failure, one of the kind that are left behind. By Jove, and he _was_ left behind--because he had come to stay! The rest of us had to let ourselves be swept along or go under, but he was high above the current--on everlasting foundations, as you say.\n",
        "\n",
        "\"Well, I went off to the house in my most egregious mood--rather moved, Lord forgive me, at the pathos of poor Stroud's career of failure being crowned by the glory of my painting him! Of course I meant to do the picture for nothing--I told Mrs. Stroud so when she began to stammer something about her poverty. I remember getting off a prodigious phrase about the honour being _mine_--oh, I was princely, my dear Rickham! I was posing to myself like one of my own sitters.\n",
        "\n",
        "\"Then I was taken up and left alone with him. I had sent all my traps in advance, and I had only to set up the easel and get to work. He had been dead only twenty-four hours, and he died suddenly, of heart disease, so that there had been no preliminary work of destruction--his face was clear and untouched. I had met him once or twice, years before, and thought him insignificant and dingy. Now I saw that he was superb.\n",
        "\n",
        "\"I was glad at first, with a merely aesthetic satisfaction: glad to have my hand on such a 'subject.' Then his strange life-likeness began to affect me queerly--as I blocked the head in I felt as if he were watching me do it. The sensation was followed by the thought: if he _were_ watching me, what would he say to my way of working? My strokes began to go a little wild--I felt nervous and uncertain.\n",
        "\n",
        "\"Once, when I looked up, I seemed to see a smile behind his close grayish beard--as if he had the secret, and were amusing himself by holding it back from me. That exasperated me still more. The secret? Why, I had a secret worth twenty of his! I dashed at the canvas furiously, and tried some of my bravura tricks. But they failed me, they crumbled. I saw that he wasn't watching the showy bits--I couldn't distract his attention; he just kept his eyes on the hard passages between. Those were the ones I had always shirked, or covered up with some lying paint. And how he saw through my lies!\n",
        "\n",
        "\"I looked up again, and caught sight of that sketch of the donkey hanging on the wall near his bed. His wife told me afterward it was the last thing he had done--just a note taken with a shaking hand, when he was down in Devonshire recovering from a previous heart attack. Just a note! But it tells his whole history. There are years of patient scornful persistence in every line. A man who had swum with the current could never have learned that mighty up-stream stroke. . . .\n",
        "\n",
        "\"I turned back to my work, and went on groping and muddling; then I looked at the donkey again. I saw that, when Stroud laid in the first stroke, he knew just what the end would be. He had possessed his subject, absorbed it, recreated it. When had I done that with any of my things? They hadn't been born of me--I had just adopted them. . . .\n",
        "\n",
        "\"Hang it, Rickham, with that face watching me I couldn't do another stroke. The plain truth was, I didn't know where to put it--_I had never known_. Only, with my sitters and my public, a showy splash of colour covered up the fact--I just threw paint into their faces. . . . Well, paint was the one medium those dead eyes could see through--see straight to the tottering foundations underneath. Don't you know how, in talking a foreign language, even fluently, one says half the time not what one wants to but what one can? Well--that was the way I painted; and as he lay there and watched me, the thing they called my 'technique' collapsed like a house of cards. He didn't sneer, you understand, poor Stroud--he just lay there quietly watching, and on his lips, through the gray beard, I seemed to hear the question: 'Are you sure you know where you're coming out?'\n",
        "\n",
        "\"If I could have painted that face, with that question on it, I should have done a great thing. The next greatest thing was to see that I couldn't--and that grace was given me. But, oh, at that minute, Rickham, was there anything on earth I wouldn't have given to have Stroud alive before me, and to hear him say: 'It's not too late--I'll show you how'?\n",
        "\n",
        "\"It _was_ too late--it would have been, even if he'd been alive. I packed up my traps, and went down and told Mrs. Stroud. Of course I didn't tell her _that_--it would have been Greek to her. I simply said I couldn't paint him, that I was too moved. She rather liked the idea--she's so romantic! It was that that made her give me the donkey. But she was terribly upset at not getting the portrait--she did so want him 'done' by some one showy! At first I was afraid she wouldn't let me off--and at my wits' end I suggested Grindle. Yes, it was I who started Grindle: I told Mrs. Stroud he was the 'coming' man, and she told somebody else, and so it got to be true. . . . And he painted Stroud without wincing; and she hung the picture among her husband's things. . . .\"\n",
        "\n",
        "He flung himself down in the arm-chair near mine, laid back his head, and clasping his arms beneath it, looked up at the picture above the chimney-piece.\n",
        "\n",
        "\"I like to fancy that Stroud himself would have given it to me, if he'd been able to say what he thought that day.\"\n",
        "\n",
        "And, in answer to a question I put half-mechanically--\"Begin again?\" he flashed out. \"When the one thing that brings me anywhere near him is that I knew enough to leave off?\"\n",
        "\n",
        "He stood up and laid his hand on my shoulder with a laugh. \"Only the irony of it is that I _am_ still painting--since Grindle's doing it for me! The Strouds stand alone, and happen once--but there's no exterminating our kind of art.\"\"\""
      ]
    },
    {
      "cell_type": "code",
      "source": [
        "print(str)"
      ],
      "metadata": {
        "colab": {
          "base_uri": "https://localhost:8080/"
        },
        "id": "jVSC3LRbqNeN",
        "outputId": "afdc4ba7-bc23-4a46-f3c5-458fceaa7975"
      },
      "execution_count": null,
      "outputs": [
        {
          "output_type": "stream",
          "name": "stdout",
          "text": [
            "I HAD always thought Jack Gisburn rather a cheap genius--though a good fellow enough--so it was no great surprise to me to hear that, in the height of his glory, he had dropped his painting, married a rich widow, and established himself in a villa on the Riviera. (Though I rather thought it would have been Rome or Florence.)\n",
            "\n",
            "\"The height of his glory\"--that was what the women called it. I can hear Mrs. Gideon Thwing--his last Chicago sitter--deploring his unaccountable abdication. \"Of course it's going to send the value of my picture 'way up; but I don't think of that, Mr. Rickham--the loss to Arrt is all I think of.\" The word, on Mrs. Thwing's lips, multiplied its _rs_ as though they were reflected in an endless vista of mirrors. And it was not only the Mrs. Thwings who mourned. Had not the exquisite Hermia Croft, at the last Grafton Gallery show, stopped me before Gisburn's \"Moon-dancers\" to say, with tears in her eyes: \"We shall not look upon its like again\"?\n",
            "\n",
            "Well!--even through the prism of Hermia's tears I felt able to face the fact with equanimity. Poor Jack Gisburn! The women had made him--it was fitting that they should mourn him. Among his own sex fewer regrets were heard, and in his own trade hardly a murmur. Professional jealousy? Perhaps. If it were, the honour of the craft was vindicated by little Claude Nutley, who, in all good faith, brought out in the Burlington a very handsome \"obituary\" on Jack--one of those showy articles stocked with random technicalities that I have heard (I won't say by whom) compared to Gisburn's painting. And so--his resolve being apparently irrevocable--the discussion gradually died out, and, as Mrs. Thwing had predicted, the price of \"Gisburns\" went up.\n",
            "\n",
            "It was not till three years later that, in the course of a few weeks' idling on the Riviera, it suddenly occurred to me to wonder why Gisburn had given up his painting. On reflection, it really was a tempting problem. To accuse his wife would have been too easy--his fair sitters had been denied the solace of saying that Mrs. Gisburn had \"dragged him down.\" For Mrs. Gisburn--as such--had not existed till nearly a year after Jack's resolve had been taken. It might be that he had married her--since he liked his ease--because he didn't want to go on painting; but it would have been hard to prove that he had given up his painting because he had married her.\n",
            "\n",
            "Of course, if she had not dragged him down, she had equally, as Miss Croft contended, failed to \"lift him up\"--she had not led him back to the easel. To put the brush into his hand again--what a vocation for a wife! But Mrs. Gisburn appeared to have disdained it--and I felt it might be interesting to find out why.\n",
            "\n",
            "The desultory life of the Riviera lends itself to such purely academic speculations; and having, on my way to Monte Carlo, caught a glimpse of Jack's balustraded terraces between the pines, I had myself borne thither the next day.\n",
            "\n",
            "I found the couple at tea beneath their palm-trees; and Mrs. Gisburn's welcome was so genial that, in the ensuing weeks, I claimed it frequently. It was not that my hostess was \"interesting\": on that point I could have given Miss Croft the fullest reassurance. It was just because she was _not_ interesting--if I may be pardoned the bull--that I found her so. For Jack, all his life, had been surrounded by interesting women: they had fostered his art, it had been reared in the hot-house of their adulation. And it was therefore instructive to note what effect the \"deadening atmosphere of mediocrity\" (I quote Miss Croft) was having on him.\n",
            "\n",
            "I have mentioned that Mrs. Gisburn was rich; and it was immediately perceptible that her husband was extracting from this circumstance a delicate but substantial satisfaction. It is, as a rule, the people who scorn money who get most out of it; and Jack's elegant disdain of his wife's big balance enabled him, with an appearance of perfect good-breeding, to transmute it into objects of art and luxury. To the latter, I must add, he remained relatively indifferent; but he was buying Renaissance bronzes and eighteenth-century pictures with a discrimination that bespoke the amplest resources.\n",
            "\n",
            "\"Money's only excuse is to put beauty into circulation,\" was one of the axioms he laid down across the Sevres and silver of an exquisitely appointed luncheon-table, when, on a later day, I had again run over from Monte Carlo; and Mrs. Gisburn, beaming on him, added for my enlightenment: \"Jack is so morbidly sensitive to every form of beauty.\"\n",
            "\n",
            "Poor Jack! It had always been his fate to have women say such things of him: the fact should be set down in extenuation. What struck me now was that, for the first time, he resented the tone. I had seen him, so often, basking under similar tributes--was it the conjugal note that robbed them of their savour? No--for, oddly enough, it became apparent that he was fond of Mrs. Gisburn--fond enough not to see her absurdity. It was his own absurdity he seemed to be wincing under--his own attitude as an object for garlands and incense.\n",
            "\n",
            "\"My dear, since I've chucked painting people don't say that stuff about me--they say it about Victor Grindle,\" was his only protest, as he rose from the table and strolled out onto the sunlit terrace.\n",
            "\n",
            "I glanced after him, struck by his last word. Victor Grindle was, in fact, becoming the man of the moment--as Jack himself, one might put it, had been the man of the hour. The younger artist was said to have formed himself at my friend's feet, and I wondered if a tinge of jealousy underlay the latter's mysterious abdication. But no--for it was not till after that event that the _rose Dubarry_ drawing-rooms had begun to display their \"Grindles.\"\n",
            "\n",
            "I turned to Mrs. Gisburn, who had lingered to give a lump of sugar to her spaniel in the dining-room.\n",
            "\n",
            "\"Why _has_ he chucked painting?\" I asked abruptly.\n",
            "\n",
            "She raised her eyebrows with a hint of good-humoured surprise.\n",
            "\n",
            "\"Oh, he doesn't _have_ to now, you know; and I want him to enjoy himself,\" she said quite simply.\n",
            "\n",
            "I looked about the spacious white-panelled room, with its _famille-verte_ vases repeating the tones of the pale damask curtains, and its eighteenth-century pastels in delicate faded frames.\n",
            "\n",
            "\"Has he chucked his pictures too? I haven't seen a single one in the house.\"\n",
            "\n",
            "A slight shade of constraint crossed Mrs. Gisburn's open countenance. \"It's his ridiculous modesty, you know. He says they're not fit to have about; he's sent them all away except one--my portrait--and that I have to keep upstairs.\"\n",
            "\n",
            "His ridiculous modesty--Jack's modesty about his pictures? My curiosity was growing like the bean-stalk. I said persuasively to my hostess: \"I must really see your portrait, you know.\"\n",
            "\n",
            "She glanced out almost timorously at the terrace where her husband, lounging in a hooded chair, had lit a cigar and drawn the Russian deerhound's head between his knees.\n",
            "\n",
            "\"Well, come while he's not looking,\" she said, with a laugh that tried to hide her nervousness; and I followed her between the marble Emperors of the hall, and up the wide stairs with terra-cotta nymphs poised among flowers at each landing.\n",
            "\n",
            "In the dimmest corner of her boudoir, amid a profusion of delicate and distinguished objects, hung one of the familiar oval canvases, in the inevitable garlanded frame. The mere outline of the frame called up all Gisburn's past!\n",
            "\n",
            "Mrs. Gisburn drew back the window-curtains, moved aside a _jardiniere_ full of pink azaleas, pushed an arm-chair away, and said: \"If you stand here you can just manage to see it. I had it over the mantel-piece, but he wouldn't let it stay.\"\n",
            "\n",
            "Yes--I could just manage to see it--the first portrait of Jack's I had ever had to strain my eyes over! Usually they had the place of honour--say the central panel in a pale yellow or _rose Dubarry_ drawing-room, or a monumental easel placed so that it took the light through curtains of old Venetian point. The more modest place became the picture better; yet, as my eyes grew accustomed to the half-light, all the characteristic qualities came out--all the hesitations disguised as audacities, the tricks of prestidigitation by which, with such consummate skill, he managed to divert attention from the real business of the picture to some pretty irrelevance of detail. Mrs. Gisburn, presenting a neutral surface to work on--forming, as it were, so inevitably the background of her own picture--had lent herself in an unusual degree to the display of this false virtuosity. The picture was one of Jack's \"strongest,\" as his admirers would have put it--it represented, on his part, a swelling of muscles, a congesting of veins, a balancing, straddling and straining, that reminded one of the circus-clown's ironic efforts to lift a feather. It met, in short, at every point the demand of lovely woman to be painted \"strongly\" because she was tired of being painted \"sweetly\"--and yet not to lose an atom of the sweetness.\n",
            "\n",
            "\"It's the last he painted, you know,\" Mrs. Gisburn said with pardonable pride. \"The last but one,\" she corrected herself--\"but the other doesn't count, because he destroyed it.\"\n",
            "\n",
            "\"Destroyed it?\" I was about to follow up this clue when I heard a footstep and saw Jack himself on the threshold.\n",
            "\n",
            "As he stood there, his hands in the pockets of his velveteen coat, the thin brown waves of hair pushed back from his white forehead, his lean sunburnt cheeks furrowed by a smile that lifted the tips of a self-confident moustache, I felt to what a degree he had the same quality as his pictures--the quality of looking cleverer than he was.\n",
            "\n",
            "His wife glanced at him deprecatingly, but his eyes travelled past her to the portrait.\n",
            "\n",
            "\"Mr. Rickham wanted to see it,\" she began, as if excusing herself. He shrugged his shoulders, still smiling.\n",
            "\n",
            "\"Oh, Rickham found me out long ago,\" he said lightly; then, passing his arm through mine: \"Come and see the rest of the house.\"\n",
            "\n",
            "He showed it to me with a kind of naive suburban pride: the bath-rooms, the speaking-tubes, the dress-closets, the trouser-presses--all the complex simplifications of the millionaire's domestic economy. And whenever my wonder paid the expected tribute he said, throwing out his chest a little: \"Yes, I really don't see how people manage to live without that.\"\n",
            "\n",
            "Well--it was just the end one might have foreseen for him. Only he was, through it all and in spite of it all--as he had been through, and in spite of, his pictures--so handsome, so charming, so disarming, that one longed to cry out: \"Be dissatisfied with your leisure!\" as once one had longed to say: \"Be dissatisfied with your work!\"\n",
            "\n",
            "But, with the cry on my lips, my diagnosis suffered an unexpected check.\n",
            "\n",
            "\"This is my own lair,\" he said, leading me into a dark plain room at the end of the florid vista. It was square and brown and leathery: no \"effects\"; no bric-a-brac, none of the air of posing for reproduction in a picture weekly--above all, no least sign of ever having been used as a studio.\n",
            "\n",
            "The fact brought home to me the absolute finality of Jack's break with his old life.\n",
            "\n",
            "\"Don't you ever dabble with paint any more?\" I asked, still looking about for a trace of such activity.\n",
            "\n",
            "\"Never,\" he said briefly.\n",
            "\n",
            "\"Or water-colour--or etching?\"\n",
            "\n",
            "His confident eyes grew dim, and his cheeks paled a little under their handsome sunburn.\n",
            "\n",
            "\"Never think of it, my dear fellow--any more than if I'd never touched a brush.\"\n",
            "\n",
            "And his tone told me in a flash that he never thought of anything else.\n",
            "\n",
            "I moved away, instinctively embarrassed by my unexpected discovery; and as I turned, my eye fell on a small picture above the mantel-piece--the only object breaking the plain oak panelling of the room.\n",
            "\n",
            "\"Oh, by Jove!\" I said.\n",
            "\n",
            "It was a sketch of a donkey--an old tired donkey, standing in the rain under a wall.\n",
            "\n",
            "\"By Jove--a Stroud!\" I cried.\n",
            "\n",
            "He was silent; but I felt him close behind me, breathing a little quickly.\n",
            "\n",
            "\"What a wonder! Made with a dozen lines--but on everlasting foundations. You lucky chap, where did you get it?\"\n",
            "\n",
            "He answered slowly: \"Mrs. Stroud gave it to me.\"\n",
            "\n",
            "\"Ah--I didn't know you even knew the Strouds. He was such an inflexible hermit.\"\n",
            "\n",
            "\"I didn't--till after. . . . She sent for me to paint him when he was dead.\"\n",
            "\n",
            "\"When he was dead? You?\"\n",
            "\n",
            "I must have let a little too much amazement escape through my surprise, for he answered with a deprecating laugh: \"Yes--she's an awful simpleton, you know, Mrs. Stroud. Her only idea was to have him done by a fashionable painter--ah, poor Stroud! She thought it the surest way of proclaiming his greatness--of forcing it on a purblind public. And at the moment I was _the_ fashionable painter.\"\n",
            "\n",
            "\"Ah, poor Stroud--as you say. Was _that_ his history?\"\n",
            "\n",
            "\"That was his history. She believed in him, gloried in him--or thought she did. But she couldn't bear not to have all the drawing-rooms with her. She couldn't bear the fact that, on varnishing days, one could always get near enough to see his pictures. Poor woman! She's just a fragment groping for other fragments. Stroud is the only whole I ever knew.\"\n",
            "\n",
            "\"You ever knew? But you just said--\"\n",
            "\n",
            "Gisburn had a curious smile in his eyes.\n",
            "\n",
            "\"Oh, I knew him, and he knew me--only it happened after he was dead.\"\n",
            "\n",
            "I dropped my voice instinctively. \"When she sent for you?\"\n",
            "\n",
            "\"Yes--quite insensible to the irony. She wanted him vindicated--and by me!\"\n",
            "\n",
            "He laughed again, and threw back his head to look up at the sketch of the donkey. \"There were days when I couldn't look at that thing--couldn't face it. But I forced myself to put it here; and now it's cured me--cured me. That's the reason why I don't dabble any more, my dear Rickham; or rather Stroud himself is the reason.\"\n",
            "\n",
            "For the first time my idle curiosity about my companion turned into a serious desire to understand him better.\n",
            "\n",
            "\"I wish you'd tell me how it happened,\" I said.\n",
            "\n",
            "He stood looking up at the sketch, and twirling between his fingers a cigarette he had forgotten to light. Suddenly he turned toward me.\n",
            "\n",
            "\"I'd rather like to tell you--because I've always suspected you of loathing my work.\"\n",
            "\n",
            "I made a deprecating gesture, which he negatived with a good-humoured shrug.\n",
            "\n",
            "\"Oh, I didn't care a straw when I believed in myself--and now it's an added tie between us!\"\n",
            "\n",
            "He laughed slightly, without bitterness, and pushed one of the deep arm-chairs forward. \"There: make yourself comfortable--and here are the cigars you like.\"\n",
            "\n",
            "He placed them at my elbow and continued to wander up and down the room, stopping now and then beneath the picture.\n",
            "\n",
            "\"How it happened? I can tell you in five minutes--and it didn't take much longer to happen. . . . I can remember now how surprised and pleased I was when I got Mrs. Stroud's note. Of course, deep down, I had always _felt_ there was no one like him--only I had gone with the stream, echoed the usual platitudes about him, till I half got to think he was a failure, one of the kind that are left behind. By Jove, and he _was_ left behind--because he had come to stay! The rest of us had to let ourselves be swept along or go under, but he was high above the current--on everlasting foundations, as you say.\n",
            "\n",
            "\"Well, I went off to the house in my most egregious mood--rather moved, Lord forgive me, at the pathos of poor Stroud's career of failure being crowned by the glory of my painting him! Of course I meant to do the picture for nothing--I told Mrs. Stroud so when she began to stammer something about her poverty. I remember getting off a prodigious phrase about the honour being _mine_--oh, I was princely, my dear Rickham! I was posing to myself like one of my own sitters.\n",
            "\n",
            "\"Then I was taken up and left alone with him. I had sent all my traps in advance, and I had only to set up the easel and get to work. He had been dead only twenty-four hours, and he died suddenly, of heart disease, so that there had been no preliminary work of destruction--his face was clear and untouched. I had met him once or twice, years before, and thought him insignificant and dingy. Now I saw that he was superb.\n",
            "\n",
            "\"I was glad at first, with a merely aesthetic satisfaction: glad to have my hand on such a 'subject.' Then his strange life-likeness began to affect me queerly--as I blocked the head in I felt as if he were watching me do it. The sensation was followed by the thought: if he _were_ watching me, what would he say to my way of working? My strokes began to go a little wild--I felt nervous and uncertain.\n",
            "\n",
            "\"Once, when I looked up, I seemed to see a smile behind his close grayish beard--as if he had the secret, and were amusing himself by holding it back from me. That exasperated me still more. The secret? Why, I had a secret worth twenty of his! I dashed at the canvas furiously, and tried some of my bravura tricks. But they failed me, they crumbled. I saw that he wasn't watching the showy bits--I couldn't distract his attention; he just kept his eyes on the hard passages between. Those were the ones I had always shirked, or covered up with some lying paint. And how he saw through my lies!\n",
            "\n",
            "\"I looked up again, and caught sight of that sketch of the donkey hanging on the wall near his bed. His wife told me afterward it was the last thing he had done--just a note taken with a shaking hand, when he was down in Devonshire recovering from a previous heart attack. Just a note! But it tells his whole history. There are years of patient scornful persistence in every line. A man who had swum with the current could never have learned that mighty up-stream stroke. . . .\n",
            "\n",
            "\"I turned back to my work, and went on groping and muddling; then I looked at the donkey again. I saw that, when Stroud laid in the first stroke, he knew just what the end would be. He had possessed his subject, absorbed it, recreated it. When had I done that with any of my things? They hadn't been born of me--I had just adopted them. . . .\n",
            "\n",
            "\"Hang it, Rickham, with that face watching me I couldn't do another stroke. The plain truth was, I didn't know where to put it--_I had never known_. Only, with my sitters and my public, a showy splash of colour covered up the fact--I just threw paint into their faces. . . . Well, paint was the one medium those dead eyes could see through--see straight to the tottering foundations underneath. Don't you know how, in talking a foreign language, even fluently, one says half the time not what one wants to but what one can? Well--that was the way I painted; and as he lay there and watched me, the thing they called my 'technique' collapsed like a house of cards. He didn't sneer, you understand, poor Stroud--he just lay there quietly watching, and on his lips, through the gray beard, I seemed to hear the question: 'Are you sure you know where you're coming out?'\n",
            "\n",
            "\"If I could have painted that face, with that question on it, I should have done a great thing. The next greatest thing was to see that I couldn't--and that grace was given me. But, oh, at that minute, Rickham, was there anything on earth I wouldn't have given to have Stroud alive before me, and to hear him say: 'It's not too late--I'll show you how'?\n",
            "\n",
            "\"It _was_ too late--it would have been, even if he'd been alive. I packed up my traps, and went down and told Mrs. Stroud. Of course I didn't tell her _that_--it would have been Greek to her. I simply said I couldn't paint him, that I was too moved. She rather liked the idea--she's so romantic! It was that that made her give me the donkey. But she was terribly upset at not getting the portrait--she did so want him 'done' by some one showy! At first I was afraid she wouldn't let me off--and at my wits' end I suggested Grindle. Yes, it was I who started Grindle: I told Mrs. Stroud he was the 'coming' man, and she told somebody else, and so it got to be true. . . . And he painted Stroud without wincing; and she hung the picture among her husband's things. . . .\"\n",
            "\n",
            "He flung himself down in the arm-chair near mine, laid back his head, and clasping his arms beneath it, looked up at the picture above the chimney-piece.\n",
            "\n",
            "\"I like to fancy that Stroud himself would have given it to me, if he'd been able to say what he thought that day.\"\n",
            "\n",
            "And, in answer to a question I put half-mechanically--\"Begin again?\" he flashed out. \"When the one thing that brings me anywhere near him is that I knew enough to leave off?\"\n",
            "\n",
            "He stood up and laid his hand on my shoulder with a laugh. \"Only the irony of it is that I _am_ still painting--since Grindle's doing it for me! The Strouds stand alone, and happen once--but there's no exterminating our kind of art.\n"
          ]
        }
      ]
    },
    {
      "cell_type": "code",
      "source": [
        "import tensorflow as tf\n",
        "from tensorflow.keras.preprocessing.text import Tokenizer"
      ],
      "metadata": {
        "id": "bLQVOC71qR-2"
      },
      "execution_count": null,
      "outputs": []
    },
    {
      "cell_type": "code",
      "source": [
        "tokenizer = Tokenizer()"
      ],
      "metadata": {
        "id": "jhw62foOqkUu"
      },
      "execution_count": null,
      "outputs": []
    },
    {
      "cell_type": "code",
      "source": [
        "tokenizer.fit_on_texts([str])"
      ],
      "metadata": {
        "id": "F1qAUgreqoT3"
      },
      "execution_count": null,
      "outputs": []
    },
    {
      "cell_type": "code",
      "source": [
        "dic= tokenizer.word_index"
      ],
      "metadata": {
        "id": "-pI92xvTqt3P"
      },
      "execution_count": null,
      "outputs": []
    },
    {
      "cell_type": "code",
      "source": [
        "print(dic)\n",
        "\n"
      ],
      "metadata": {
        "colab": {
          "base_uri": "https://localhost:8080/"
        },
        "id": "TbflDAPFq5m2",
        "outputId": "95f5d71d-a8df-4f93-907a-b51a8fce8eef"
      },
      "execution_count": null,
      "outputs": [
        {
          "output_type": "stream",
          "name": "stdout",
          "text": [
            "{'the': 1, 'i': 2, 'of': 3, 'to': 4, 'a': 5, 'and': 6, 'it': 7, 'he': 8, 'was': 9, 'his': 10, 'that': 11, 'had': 12, 'my': 13, 'in': 14, 'me': 15, 'him': 16, 'with': 17, 'on': 18, 'have': 19, 'she': 20, 'you': 21, 'as': 22, 'but': 23, 'one': 24, 'mrs': 25, 'at': 26, 'up': 27, 'her': 28, 'been': 29, 'not': 30, 'for': 31, 'so': 32, 'by': 33, 'stroud': 34, 'gisburn': 35, 'when': 36, 'said': 37, 'all': 38, 'only': 39, 'if': 40, 'just': 41, 'an': 42, 'say': 43, 'out': 44, 'see': 45, 'what': 46, 'picture': 47, 'be': 48, 'about': 49, 'or': 50, 'no': 51, 'painting': 52, 'himself': 53, 'would': 54, 'is': 55, 'they': 56, 'were': 57, 'through': 58, 'down': 59, 'know': 60, 'there': 61, 'thought': 62, 'jack': 63, 'eyes': 64, 'like': 65, \"didn't\": 66, \"couldn't\": 67, 'rickham': 68, 'who': 69, 'again': 70, 'felt': 71, 'poor': 72, 'own': 73, 'such': 74, \"jack's\": 75, 'because': 76, 'back': 77, 'put': 78, 'from': 79, 'now': 80, 'oh': 81, 'knew': 82, 'always': 83, 'rather': 84, 'last': 85, 'course': 86, \"don't\": 87, 'well': 88, 'fact': 89, 'little': 90, 'given': 91, 'too': 92, 'into': 93, 'between': 94, 'their': 95, 'could': 96, 'pictures': 97, 'first': 98, 'room': 99, 'work': 100, 'painted': 101, 'how': 102, 'paint': 103, 'never': 104, 'told': 105, 'donkey': 106, 'thing': 107, 'good': 108, 'enough': 109, 'can': 110, \"it's\": 111, \"gisburn's\": 112, 'face': 113, 'till': 114, 'why': 115, 'after': 116, 'house': 117, 'note': 118, 'under': 119, 'turned': 120, 'looked': 121, 'portrait': 122, 'yes': 123, 'ever': 124, 'more': 125, 'saw': 126, 'then': 127, 'dead': 128, 'watching': 129, 'hear': 130, 'women': 131, 'think': 132, 'its': 133, 'croft': 134, 'even': 135, 'made': 136, 'showy': 137, 'being': 138, 'went': 139, 'wife': 140, 'might': 141, 'hand': 142, 'interesting': 143, 'life': 144, 'way': 145, 'myself': 146, 'this': 147, 'get': 148, 'laid': 149, 'them': 150, 'dear': 151, 'grindle': 152, 'man': 153, 'sent': 154, 'where': 155, 'head': 156, 'looking': 157, 'moved': 158, 'arm': 159, 'let': 160, 'half': 161, 'some': 162, 'began': 163, 'still': 164, 'end': 165, 'once': 166, 'above': 167, 'any': 168, 'sketch': 169, 'behind': 170, 'done': 171, 'near': 172, 'tell': 173, 'off': 174, 'though': 175, 'surprise': 176, 'glory': 177, 'married': 178, 'riviera': 179, 'called': 180, 'lips': 181, 'before': 182, 'look': 183, 'should': 184, 'among': 185, 'heard': 186, 'honour': 187, 'handsome': 188, 'those': 189, 'years': 190, 'suddenly': 191, 'wonder': 192, 'really': 193, 'sitters': 194, 'taken': 195, 'since': 196, 'want': 197, 'go': 198, 'miss': 199, 'easel': 200, 'having': 201, 'day': 202, 'found': 203, 'beneath': 204, 'point': 205, 'art': 206, 'delicate': 207, 'people': 208, 'must': 209, 'over': 210, 'every': 211, 'things': 212, 'time': 213, 'seemed': 214, 'chucked': 215, 'rose': 216, 'glanced': 217, 'drawing': 218, 'rooms': 219, 'curtains': 220, 'modesty': 221, 'away': 222, 'your': 223, 'chair': 224, 'come': 225, 'laugh': 226, 'pushed': 227, 'here': 228, 'manage': 229, 'piece': 230, \"wouldn't\": 231, 'light': 232, 'old': 233, 'herself': 234, 'stood': 235, 'smile': 236, 'mine': 237, 'kind': 238, 'without': 239, 'plain': 240, 'jove': 241, 'foundations': 242, 'did': 243, 'ah': 244, \"she's\": 245, 'history': 246, 'happened': 247, 'are': 248, 'got': 249, 'left': 250, 'do': 251, 'secret': 252, 'stroke': 253, 'question': 254, 'fellow': 255, 'great': 256, 'height': 257, 'dropped': 258, 'rich': 259, 'thwing': 260, 'abdication': 261, 'mr': 262, 'word': 263, 'vista': 264, 'show': 265, 'tears': 266, 'able': 267, 'jealousy': 268, 'vindicated': 269, 'brought': 270, 'resolve': 271, 'died': 272, 'later': 273, 'dragged': 274, 'liked': 275, 'hard': 276, 'failed': 277, 'lift': 278, 'brush': 279, 'monte': 280, 'carlo': 281, 'caught': 282, 'next': 283, 'hostess': 284, 'husband': 285, 'satisfaction': 286, 'most': 287, 'objects': 288, 'eighteenth': 289, 'century': 290, 'beauty': 291, 'table': 292, 'added': 293, 'set': 294, 'struck': 295, 'tone': 296, 'seen': 297, 'became': 298, 'fond': 299, 'absurdity': 300, 'wincing': 301, 'object': 302, \"i've\": 303, 'victor': 304, 'terrace': 305, 'moment': 306, 'dubarry': 307, 'display': 308, 'give': 309, 'has': 310, 'asked': 311, 'humoured': 312, \"doesn't\": 313, 'quite': 314, 'simply': 315, 'white': 316, 'pale': 317, 'ridiculous': 318, 'says': 319, \"he's\": 320, 'curiosity': 321, 'tried': 322, 'followed': 323, 'hung': 324, 'frame': 325, 'past': 326, 'stand': 327, 'mantel': 328, 'stay': 329, 'place': 330, 'placed': 331, 'better': 332, 'yet': 333, 'grew': 334, 'tricks': 335, 'which': 336, 'attention': 337, 'degree': 338, 'met': 339, 'woman': 340, 'tired': 341, 'pride': 342, 'other': 343, 'destroyed': 344, 'brown': 345, 'cheeks': 346, 'confident': 347, 'quality': 348, 'than': 349, 'wanted': 350, 'rest': 351, 'spite': 352, 'longed': 353, 'cry': 354, 'dissatisfied': 355, 'unexpected': 356, 'posing': 357, 'dabble': 358, 'colour': 359, \"i'd\": 360, 'anything': 361, 'else': 362, 'instinctively': 363, 'wall': 364, 'close': 365, 'everlasting': 366, 'answered': 367, 'strouds': 368, 'much': 369, 'deprecating': 370, 'idea': 371, 'fashionable': 372, 'painter': 373, 'public': 374, 'believed': 375, 'bear': 376, 'days': 377, 'groping': 378, 'whole': 379, 'irony': 380, 'laughed': 381, 'threw': 382, 'cured': 383, 'reason': 384, 'understand': 385, 'us': 386, 'deep': 387, 'happen': 388, 'remember': 389, \"stroud's\": 390, 'stream': 391, 'failure': 392, 'current': 393, 'getting': 394, 'alone': 395, 'traps': 396, 'twenty': 397, 'heart': 398, 'glad': 399, \"'\": 400, 'beard': 401, 'covered': 402, 'lay': 403, 'alive': 404, 'late': 405, \"he'd\": 406, 'cheap': 407, 'genius': 408, 'widow': 409, 'established': 410, 'villa': 411, 'rome': 412, 'florence': 413, 'gideon': 414, 'chicago': 415, 'sitter': 416, 'deploring': 417, 'unaccountable': 418, 'going': 419, 'send': 420, 'value': 421, \"'way\": 422, 'loss': 423, 'arrt': 424, \"thwing's\": 425, 'multiplied': 426, 'rs': 427, 'reflected': 428, 'endless': 429, 'mirrors': 430, 'thwings': 431, 'mourned': 432, 'exquisite': 433, 'hermia': 434, 'grafton': 435, 'gallery': 436, 'stopped': 437, 'moon': 438, 'dancers': 439, 'we': 440, 'shall': 441, 'upon': 442, 'prism': 443, \"hermia's\": 444, 'equanimity': 445, 'fitting': 446, 'mourn': 447, 'sex': 448, 'fewer': 449, 'regrets': 450, 'trade': 451, 'hardly': 452, 'murmur': 453, 'professional': 454, 'perhaps': 455, 'craft': 456, 'claude': 457, 'nutley': 458, 'faith': 459, 'burlington': 460, 'very': 461, 'obituary': 462, 'articles': 463, 'stocked': 464, 'random': 465, 'technicalities': 466, \"won't\": 467, 'whom': 468, 'compared': 469, 'apparently': 470, 'irrevocable': 471, 'discussion': 472, 'gradually': 473, 'predicted': 474, 'price': 475, 'gisburns': 476, 'three': 477, 'few': 478, \"weeks'\": 479, 'idling': 480, 'occurred': 481, 'reflection': 482, 'tempting': 483, 'problem': 484, 'accuse': 485, 'easy': 486, 'fair': 487, 'denied': 488, 'solace': 489, 'saying': 490, 'existed': 491, 'nearly': 492, 'year': 493, 'ease': 494, 'prove': 495, 'equally': 496, 'contended': 497, 'led': 498, 'vocation': 499, 'appeared': 500, 'disdained': 501, 'find': 502, 'desultory': 503, 'lends': 504, 'itself': 505, 'purely': 506, 'academic': 507, 'speculations': 508, 'glimpse': 509, 'balustraded': 510, 'terraces': 511, 'pines': 512, 'borne': 513, 'thither': 514, 'couple': 515, 'tea': 516, 'palm': 517, 'trees': 518, 'welcome': 519, 'genial': 520, 'ensuing': 521, 'weeks': 522, 'claimed': 523, 'frequently': 524, 'fullest': 525, 'reassurance': 526, 'may': 527, 'pardoned': 528, 'bull': 529, 'surrounded': 530, 'fostered': 531, 'reared': 532, 'hot': 533, 'adulation': 534, 'therefore': 535, 'instructive': 536, 'effect': 537, 'deadening': 538, 'atmosphere': 539, 'mediocrity': 540, 'quote': 541, 'mentioned': 542, 'immediately': 543, 'perceptible': 544, 'extracting': 545, 'circumstance': 546, 'substantial': 547, 'rule': 548, 'scorn': 549, 'money': 550, 'elegant': 551, 'disdain': 552, \"wife's\": 553, 'big': 554, 'balance': 555, 'enabled': 556, 'appearance': 557, 'perfect': 558, 'breeding': 559, 'transmute': 560, 'luxury': 561, 'latter': 562, 'add': 563, 'remained': 564, 'relatively': 565, 'indifferent': 566, 'buying': 567, 'renaissance': 568, 'bronzes': 569, 'discrimination': 570, 'bespoke': 571, 'amplest': 572, 'resources': 573, \"money's\": 574, 'excuse': 575, 'circulation': 576, 'axioms': 577, 'across': 578, 'sevres': 579, 'silver': 580, 'exquisitely': 581, 'appointed': 582, 'luncheon': 583, 'run': 584, 'beaming': 585, 'enlightenment': 586, 'morbidly': 587, 'sensitive': 588, 'form': 589, 'fate': 590, 'extenuation': 591, 'resented': 592, 'often': 593, 'basking': 594, 'similar': 595, 'tributes': 596, 'conjugal': 597, 'robbed': 598, 'savour': 599, 'oddly': 600, 'apparent': 601, 'attitude': 602, 'garlands': 603, 'incense': 604, 'stuff': 605, 'protest': 606, 'strolled': 607, 'onto': 608, 'sunlit': 609, 'becoming': 610, 'hour': 611, 'younger': 612, 'artist': 613, 'formed': 614, \"friend's\": 615, 'feet': 616, 'wondered': 617, 'tinge': 618, 'underlay': 619, \"latter's\": 620, 'mysterious': 621, 'event': 622, 'begun': 623, 'grindles': 624, 'lingered': 625, 'lump': 626, 'sugar': 627, 'spaniel': 628, 'dining': 629, 'abruptly': 630, 'raised': 631, 'eyebrows': 632, 'hint': 633, 'enjoy': 634, 'spacious': 635, 'panelled': 636, 'famille': 637, 'verte': 638, 'vases': 639, 'repeating': 640, 'tones': 641, 'damask': 642, 'pastels': 643, 'faded': 644, 'frames': 645, \"haven't\": 646, 'single': 647, 'slight': 648, 'shade': 649, 'constraint': 650, 'crossed': 651, 'open': 652, 'countenance': 653, \"they're\": 654, 'fit': 655, 'except': 656, 'keep': 657, 'upstairs': 658, 'growing': 659, 'bean': 660, 'stalk': 661, 'persuasively': 662, 'almost': 663, 'timorously': 664, 'lounging': 665, 'hooded': 666, 'lit': 667, 'cigar': 668, 'drawn': 669, 'russian': 670, \"deerhound's\": 671, 'knees': 672, 'while': 673, 'hide': 674, 'nervousness': 675, 'marble': 676, 'emperors': 677, 'hall': 678, 'wide': 679, 'stairs': 680, 'terra': 681, 'cotta': 682, 'nymphs': 683, 'poised': 684, 'flowers': 685, 'each': 686, 'landing': 687, 'dimmest': 688, 'corner': 689, 'boudoir': 690, 'amid': 691, 'profusion': 692, 'distinguished': 693, 'familiar': 694, 'oval': 695, 'canvases': 696, 'inevitable': 697, 'garlanded': 698, 'mere': 699, 'outline': 700, 'drew': 701, 'window': 702, 'aside': 703, 'jardiniere': 704, 'full': 705, 'pink': 706, 'azaleas': 707, 'strain': 708, 'usually': 709, 'central': 710, 'panel': 711, 'yellow': 712, 'monumental': 713, 'took': 714, 'venetian': 715, 'modest': 716, 'accustomed': 717, 'characteristic': 718, 'qualities': 719, 'came': 720, 'hesitations': 721, 'disguised': 722, 'audacities': 723, 'prestidigitation': 724, 'consummate': 725, 'skill': 726, 'managed': 727, 'divert': 728, 'real': 729, 'business': 730, 'pretty': 731, 'irrelevance': 732, 'detail': 733, 'presenting': 734, 'neutral': 735, 'surface': 736, 'forming': 737, 'inevitably': 738, 'background': 739, 'lent': 740, 'unusual': 741, 'false': 742, 'virtuosity': 743, 'strongest': 744, 'admirers': 745, 'represented': 746, 'part': 747, 'swelling': 748, 'muscles': 749, 'congesting': 750, 'veins': 751, 'balancing': 752, 'straddling': 753, 'straining': 754, 'reminded': 755, 'circus': 756, \"clown's\": 757, 'ironic': 758, 'efforts': 759, 'feather': 760, 'short': 761, 'demand': 762, 'lovely': 763, 'strongly': 764, 'sweetly': 765, 'lose': 766, 'atom': 767, 'sweetness': 768, 'pardonable': 769, 'corrected': 770, 'count': 771, 'follow': 772, 'clue': 773, 'footstep': 774, 'threshold': 775, 'hands': 776, 'pockets': 777, 'velveteen': 778, 'coat': 779, 'thin': 780, 'waves': 781, 'hair': 782, 'forehead': 783, 'lean': 784, 'sunburnt': 785, 'furrowed': 786, 'lifted': 787, 'tips': 788, 'self': 789, 'moustache': 790, 'same': 791, 'cleverer': 792, 'deprecatingly': 793, 'travelled': 794, 'excusing': 795, 'shrugged': 796, 'shoulders': 797, 'smiling': 798, 'long': 799, 'ago': 800, 'lightly': 801, 'passing': 802, 'showed': 803, 'naive': 804, 'suburban': 805, 'bath': 806, 'speaking': 807, 'tubes': 808, 'dress': 809, 'closets': 810, 'trouser': 811, 'presses': 812, 'complex': 813, 'simplifications': 814, \"millionaire's\": 815, 'domestic': 816, 'economy': 817, 'whenever': 818, 'paid': 819, 'expected': 820, 'tribute': 821, 'throwing': 822, 'chest': 823, 'live': 824, 'foreseen': 825, 'charming': 826, 'disarming': 827, 'leisure': 828, 'diagnosis': 829, 'suffered': 830, 'check': 831, 'lair': 832, 'leading': 833, 'dark': 834, 'florid': 835, 'square': 836, 'leathery': 837, 'effects': 838, 'bric': 839, 'brac': 840, 'none': 841, 'air': 842, 'reproduction': 843, 'weekly': 844, 'least': 845, 'sign': 846, 'used': 847, 'studio': 848, 'home': 849, 'absolute': 850, 'finality': 851, 'break': 852, 'trace': 853, 'activity': 854, 'briefly': 855, 'water': 856, 'etching': 857, 'dim': 858, 'paled': 859, 'sunburn': 860, 'touched': 861, 'flash': 862, 'embarrassed': 863, 'discovery': 864, 'eye': 865, 'fell': 866, 'small': 867, 'breaking': 868, 'oak': 869, 'panelling': 870, 'standing': 871, 'rain': 872, 'cried': 873, 'silent': 874, 'breathing': 875, 'quickly': 876, 'dozen': 877, 'lines': 878, 'lucky': 879, 'chap': 880, 'slowly': 881, 'gave': 882, 'inflexible': 883, 'hermit': 884, 'amazement': 885, 'escape': 886, 'awful': 887, 'simpleton': 888, 'surest': 889, 'proclaiming': 890, 'greatness': 891, 'forcing': 892, 'purblind': 893, 'gloried': 894, 'varnishing': 895, 'fragment': 896, 'fragments': 897, 'curious': 898, 'voice': 899, 'insensible': 900, 'forced': 901, \"that's\": 902, 'idle': 903, 'companion': 904, 'serious': 905, 'desire': 906, 'wish': 907, \"you'd\": 908, 'twirling': 909, 'fingers': 910, 'cigarette': 911, 'forgotten': 912, 'toward': 913, 'suspected': 914, 'loathing': 915, 'gesture': 916, 'negatived': 917, 'shrug': 918, 'care': 919, 'straw': 920, 'tie': 921, 'slightly': 922, 'bitterness': 923, 'chairs': 924, 'forward': 925, 'make': 926, 'yourself': 927, 'comfortable': 928, 'cigars': 929, 'elbow': 930, 'continued': 931, 'wander': 932, 'stopping': 933, 'five': 934, 'minutes': 935, 'take': 936, 'longer': 937, 'surprised': 938, 'pleased': 939, 'gone': 940, 'echoed': 941, 'usual': 942, 'platitudes': 943, 'ourselves': 944, 'swept': 945, 'along': 946, 'high': 947, 'egregious': 948, 'mood': 949, 'lord': 950, 'forgive': 951, 'pathos': 952, 'career': 953, 'crowned': 954, 'meant': 955, 'nothing': 956, 'stammer': 957, 'something': 958, 'poverty': 959, 'prodigious': 960, 'phrase': 961, 'princely': 962, 'advance': 963, 'four': 964, 'hours': 965, 'disease': 966, 'preliminary': 967, 'destruction': 968, 'clear': 969, 'untouched': 970, 'twice': 971, 'insignificant': 972, 'dingy': 973, 'superb': 974, 'merely': 975, 'aesthetic': 976, \"'subject\": 977, 'strange': 978, 'likeness': 979, 'affect': 980, 'queerly': 981, 'blocked': 982, 'sensation': 983, 'working': 984, 'strokes': 985, 'wild': 986, 'nervous': 987, 'uncertain': 988, 'grayish': 989, 'amusing': 990, 'holding': 991, 'exasperated': 992, 'worth': 993, 'dashed': 994, 'canvas': 995, 'furiously': 996, 'bravura': 997, 'crumbled': 998, \"wasn't\": 999, 'bits': 1000, 'distract': 1001, 'kept': 1002, 'passages': 1003, 'ones': 1004, 'shirked': 1005, 'lying': 1006, 'lies': 1007, 'sight': 1008, 'hanging': 1009, 'bed': 1010, 'afterward': 1011, 'shaking': 1012, 'devonshire': 1013, 'recovering': 1014, 'previous': 1015, 'attack': 1016, 'tells': 1017, 'patient': 1018, 'scornful': 1019, 'persistence': 1020, 'line': 1021, 'swum': 1022, 'learned': 1023, 'mighty': 1024, 'muddling': 1025, 'possessed': 1026, 'subject': 1027, 'absorbed': 1028, 'recreated': 1029, \"hadn't\": 1030, 'born': 1031, 'adopted': 1032, 'hang': 1033, 'another': 1034, 'truth': 1035, 'known': 1036, 'splash': 1037, 'faces': 1038, 'medium': 1039, 'straight': 1040, 'tottering': 1041, 'underneath': 1042, 'talking': 1043, 'foreign': 1044, 'language': 1045, 'fluently': 1046, 'wants': 1047, 'watched': 1048, \"'technique'\": 1049, 'collapsed': 1050, 'cards': 1051, 'sneer': 1052, 'quietly': 1053, 'gray': 1054, \"'are\": 1055, 'sure': 1056, \"you're\": 1057, 'coming': 1058, 'greatest': 1059, 'grace': 1060, 'minute': 1061, 'earth': 1062, \"'it's\": 1063, \"i'll\": 1064, \"how'\": 1065, 'packed': 1066, 'greek': 1067, 'romantic': 1068, 'terribly': 1069, 'upset': 1070, \"'done'\": 1071, 'afraid': 1072, \"wits'\": 1073, 'suggested': 1074, 'started': 1075, \"'coming'\": 1076, 'somebody': 1077, 'true': 1078, \"husband's\": 1079, 'flung': 1080, 'clasping': 1081, 'arms': 1082, 'chimney': 1083, 'fancy': 1084, 'answer': 1085, 'mechanically': 1086, 'begin': 1087, 'flashed': 1088, 'brings': 1089, 'anywhere': 1090, 'leave': 1091, 'shoulder': 1092, 'am': 1093, \"grindle's\": 1094, 'doing': 1095, \"there's\": 1096, 'exterminating': 1097, 'our': 1098}\n"
          ]
        }
      ]
    },
    {
      "cell_type": "code",
      "source": [
        "\n",
        "input_sequence = []\n",
        "for sentence in str.split('\\n'):\n",
        "    tokenized_sentence =tokenizer.texts_to_sequences([sentence])[0]\n",
        "    for i in range(1,len(tokenized_sentence)):\n",
        "        n_gram_sequence = tokenized_sentence[:i+1]\n",
        "        input_sequence.append(n_gram_sequence)"
      ],
      "metadata": {
        "id": "DLQ70nm6q-Ou"
      },
      "execution_count": null,
      "outputs": []
    },
    {
      "cell_type": "code",
      "source": [
        "max_len= max([len(x) for x in input_sequence])\n",
        "print(max_len)"
      ],
      "metadata": {
        "colab": {
          "base_uri": "https://localhost:8080/"
        },
        "id": "notIVnXLsd_u",
        "outputId": "065e3c26-dacc-4fd1-ae8f-32708ea14530"
      },
      "execution_count": null,
      "outputs": [
        {
          "output_type": "stream",
          "name": "stdout",
          "text": [
            "231\n"
          ]
        }
      ]
    },
    {
      "cell_type": "code",
      "source": [
        "from tensorflow.keras.preprocessing.sequence import pad_sequences\n",
        "input_sequence = pad_sequences(input_sequence, maxlen=max_len, padding='pre')"
      ],
      "metadata": {
        "id": "V02TajwLsmK-"
      },
      "execution_count": null,
      "outputs": []
    },
    {
      "cell_type": "code",
      "source": [
        "x = input_sequence[:,:-1]\n",
        "y = input_sequence[:,-1]"
      ],
      "metadata": {
        "id": "o2vHMXlLsu4P"
      },
      "execution_count": null,
      "outputs": []
    },
    {
      "cell_type": "code",
      "source": [
        "x.shape"
      ],
      "metadata": {
        "colab": {
          "base_uri": "https://localhost:8080/"
        },
        "id": "IZnumSWJsxxg",
        "outputId": "cd08e689-52f2-4a13-e006-a589ec902db4"
      },
      "execution_count": null,
      "outputs": [
        {
          "output_type": "execute_result",
          "data": {
            "text/plain": [
              "(3666, 230)"
            ]
          },
          "metadata": {},
          "execution_count": 13
        }
      ]
    },
    {
      "cell_type": "code",
      "source": [
        "x"
      ],
      "metadata": {
        "colab": {
          "base_uri": "https://localhost:8080/"
        },
        "id": "iJseDbQ9s1xG",
        "outputId": "5ff21f6a-db98-43ac-f5d1-a19e4b7995cf"
      },
      "execution_count": null,
      "outputs": [
        {
          "output_type": "execute_result",
          "data": {
            "text/plain": [
              "array([[   0,    0,    0, ...,    0,    0,    2],\n",
              "       [   0,    0,    0, ...,    0,    2,   12],\n",
              "       [   0,    0,    0, ...,    2,   12,   83],\n",
              "       ...,\n",
              "       [   0,    0,    0, ...,   51, 1097, 1098],\n",
              "       [   0,    0,    0, ..., 1097, 1098,  238],\n",
              "       [   0,    0,    0, ..., 1098,  238,    3]], dtype=int32)"
            ]
          },
          "metadata": {},
          "execution_count": 14
        }
      ]
    },
    {
      "cell_type": "code",
      "source": [
        "from tensorflow.keras.utils import to_categorical\n",
        "y = to_categorical(y, num_classes=len(dic)+1)\n",
        "#one hot encoding of y into for classification discrete"
      ],
      "metadata": {
        "id": "VdWQM-3Hs8Fj"
      },
      "execution_count": null,
      "outputs": []
    },
    {
      "cell_type": "code",
      "source": [
        "y.shape"
      ],
      "metadata": {
        "colab": {
          "base_uri": "https://localhost:8080/"
        },
        "id": "tlZm09h9tJ5q",
        "outputId": "0ebf7741-7d28-4552-9100-0e405074eebb"
      },
      "execution_count": null,
      "outputs": [
        {
          "output_type": "execute_result",
          "data": {
            "text/plain": [
              "(3666, 1099)"
            ]
          },
          "metadata": {},
          "execution_count": 16
        }
      ]
    },
    {
      "cell_type": "code",
      "source": [
        "from tensorflow.keras.models import Sequential\n",
        "from tensorflow.keras.layers import Embedding, LSTM, Dense\n"
      ],
      "metadata": {
        "id": "8skP7ZQjtdMl"
      },
      "execution_count": null,
      "outputs": []
    },
    {
      "cell_type": "code",
      "source": [
        "model = Sequential()\n",
        "model.add(Embedding(len(dic)+1, 100, input_length=max_len-1))\n",
        "model.add(LSTM(150))\n",
        "model.add(Dense(len(dic)+1, activation='softmax'))"
      ],
      "metadata": {
        "id": "GMHHpDrCtooD"
      },
      "execution_count": null,
      "outputs": []
    },
    {
      "cell_type": "code",
      "source": [
        "model.compile(loss='categorical_crossentropy', optimizer='adam', metrics=['accuracy'])"
      ],
      "metadata": {
        "id": "AEcFzJWhubfm"
      },
      "execution_count": null,
      "outputs": []
    },
    {
      "cell_type": "code",
      "source": [
        "model.fit(x,y, epochs=100, validation_split=0.2)"
      ],
      "metadata": {
        "colab": {
          "base_uri": "https://localhost:8080/"
        },
        "id": "LZi5afK1n0Br",
        "outputId": "d114329a-0779-4fa9-9e22-af0715e880ed"
      },
      "execution_count": null,
      "outputs": [
        {
          "output_type": "stream",
          "name": "stdout",
          "text": [
            "Epoch 1/100\n",
            "92/92 [==============================] - 50s 513ms/step - loss: 6.4317 - accuracy: 0.0447 - val_loss: 6.2035 - val_accuracy: 0.0450\n",
            "Epoch 2/100\n",
            "92/92 [==============================] - 46s 501ms/step - loss: 5.9268 - accuracy: 0.0505 - val_loss: 6.2255 - val_accuracy: 0.0450\n",
            "Epoch 3/100\n",
            "92/92 [==============================] - 43s 472ms/step - loss: 5.7734 - accuracy: 0.0515 - val_loss: 6.2936 - val_accuracy: 0.0463\n",
            "Epoch 4/100\n",
            "92/92 [==============================] - 46s 500ms/step - loss: 5.6471 - accuracy: 0.0631 - val_loss: 6.3226 - val_accuracy: 0.0477\n",
            "Epoch 5/100\n",
            "92/92 [==============================] - 46s 503ms/step - loss: 5.5012 - accuracy: 0.0703 - val_loss: 6.3459 - val_accuracy: 0.0477\n",
            "Epoch 6/100\n",
            "92/92 [==============================] - 46s 505ms/step - loss: 5.3635 - accuracy: 0.0774 - val_loss: 6.4150 - val_accuracy: 0.0490\n",
            "Epoch 7/100\n",
            "92/92 [==============================] - 46s 498ms/step - loss: 5.2160 - accuracy: 0.0880 - val_loss: 6.4507 - val_accuracy: 0.0586\n",
            "Epoch 8/100\n",
            "92/92 [==============================] - 46s 500ms/step - loss: 5.0579 - accuracy: 0.0955 - val_loss: 6.5039 - val_accuracy: 0.0640\n",
            "Epoch 9/100\n",
            "92/92 [==============================] - 44s 479ms/step - loss: 4.9088 - accuracy: 0.1047 - val_loss: 6.5284 - val_accuracy: 0.0599\n",
            "Epoch 10/100\n",
            "92/92 [==============================] - 46s 503ms/step - loss: 4.7460 - accuracy: 0.1156 - val_loss: 6.6267 - val_accuracy: 0.0627\n",
            "Epoch 11/100\n",
            "92/92 [==============================] - 45s 495ms/step - loss: 4.5807 - accuracy: 0.1265 - val_loss: 6.6371 - val_accuracy: 0.0722\n",
            "Epoch 12/100\n",
            "92/92 [==============================] - 43s 473ms/step - loss: 4.4095 - accuracy: 0.1429 - val_loss: 6.6937 - val_accuracy: 0.0804\n",
            "Epoch 13/100\n",
            "92/92 [==============================] - 45s 496ms/step - loss: 4.2419 - accuracy: 0.1586 - val_loss: 6.7061 - val_accuracy: 0.0668\n",
            "Epoch 14/100\n",
            "92/92 [==============================] - 43s 471ms/step - loss: 4.0712 - accuracy: 0.1664 - val_loss: 6.7736 - val_accuracy: 0.0668\n",
            "Epoch 15/100\n",
            "92/92 [==============================] - 44s 477ms/step - loss: 3.9055 - accuracy: 0.1879 - val_loss: 6.8145 - val_accuracy: 0.0695\n",
            "Epoch 16/100\n",
            "92/92 [==============================] - 45s 493ms/step - loss: 3.7355 - accuracy: 0.2128 - val_loss: 6.8732 - val_accuracy: 0.0681\n",
            "Epoch 17/100\n",
            "92/92 [==============================] - 45s 492ms/step - loss: 3.5726 - accuracy: 0.2456 - val_loss: 6.9110 - val_accuracy: 0.0736\n",
            "Epoch 18/100\n",
            "92/92 [==============================] - 46s 497ms/step - loss: 3.4041 - accuracy: 0.2752 - val_loss: 6.9950 - val_accuracy: 0.0749\n",
            "Epoch 19/100\n",
            "92/92 [==============================] - 45s 493ms/step - loss: 3.2380 - accuracy: 0.3090 - val_loss: 7.0385 - val_accuracy: 0.0708\n",
            "Epoch 20/100\n",
            "92/92 [==============================] - 44s 480ms/step - loss: 3.0773 - accuracy: 0.3452 - val_loss: 7.1152 - val_accuracy: 0.0722\n",
            "Epoch 21/100\n",
            "92/92 [==============================] - 46s 501ms/step - loss: 2.9141 - accuracy: 0.3874 - val_loss: 7.1870 - val_accuracy: 0.0722\n",
            "Epoch 22/100\n",
            "92/92 [==============================] - 44s 475ms/step - loss: 2.7550 - accuracy: 0.4250 - val_loss: 7.2273 - val_accuracy: 0.0695\n",
            "Epoch 23/100\n",
            "92/92 [==============================] - 42s 463ms/step - loss: 2.5980 - accuracy: 0.4638 - val_loss: 7.3032 - val_accuracy: 0.0708\n",
            "Epoch 24/100\n",
            "92/92 [==============================] - 48s 522ms/step - loss: 2.4424 - accuracy: 0.5051 - val_loss: 7.3952 - val_accuracy: 0.0681\n",
            "Epoch 25/100\n",
            "92/92 [==============================] - 45s 486ms/step - loss: 2.2979 - accuracy: 0.5409 - val_loss: 7.4424 - val_accuracy: 0.0654\n",
            "Epoch 26/100\n",
            "92/92 [==============================] - 45s 490ms/step - loss: 2.1489 - accuracy: 0.5849 - val_loss: 7.5160 - val_accuracy: 0.0613\n",
            "Epoch 27/100\n",
            "92/92 [==============================] - 42s 456ms/step - loss: 2.0081 - accuracy: 0.6112 - val_loss: 7.5954 - val_accuracy: 0.0708\n",
            "Epoch 28/100\n",
            "92/92 [==============================] - 44s 483ms/step - loss: 1.8777 - accuracy: 0.6521 - val_loss: 7.6520 - val_accuracy: 0.0613\n",
            "Epoch 29/100\n",
            "92/92 [==============================] - 45s 492ms/step - loss: 1.7477 - accuracy: 0.6787 - val_loss: 7.7231 - val_accuracy: 0.0640\n",
            "Epoch 30/100\n",
            "92/92 [==============================] - 45s 486ms/step - loss: 1.6274 - accuracy: 0.7104 - val_loss: 7.7899 - val_accuracy: 0.0640\n",
            "Epoch 31/100\n",
            "92/92 [==============================] - 42s 462ms/step - loss: 1.5103 - accuracy: 0.7405 - val_loss: 7.8576 - val_accuracy: 0.0627\n",
            "Epoch 32/100\n",
            "92/92 [==============================] - 45s 493ms/step - loss: 1.4071 - accuracy: 0.7688 - val_loss: 7.9196 - val_accuracy: 0.0627\n",
            "Epoch 33/100\n",
            "92/92 [==============================] - 46s 500ms/step - loss: 1.3111 - accuracy: 0.7896 - val_loss: 7.9870 - val_accuracy: 0.0559\n",
            "Epoch 34/100\n",
            "92/92 [==============================] - 46s 506ms/step - loss: 1.2142 - accuracy: 0.8107 - val_loss: 8.0509 - val_accuracy: 0.0627\n",
            "Epoch 35/100\n",
            "92/92 [==============================] - 45s 494ms/step - loss: 1.1258 - accuracy: 0.8295 - val_loss: 8.0996 - val_accuracy: 0.0599\n",
            "Epoch 36/100\n",
            "92/92 [==============================] - 45s 493ms/step - loss: 1.0429 - accuracy: 0.8479 - val_loss: 8.1563 - val_accuracy: 0.0559\n",
            "Epoch 37/100\n",
            "92/92 [==============================] - 46s 496ms/step - loss: 0.9643 - accuracy: 0.8697 - val_loss: 8.2192 - val_accuracy: 0.0572\n",
            "Epoch 38/100\n",
            "92/92 [==============================] - 48s 525ms/step - loss: 0.8943 - accuracy: 0.8827 - val_loss: 8.2780 - val_accuracy: 0.0613\n",
            "Epoch 39/100\n",
            "92/92 [==============================] - 45s 485ms/step - loss: 0.8325 - accuracy: 0.8977 - val_loss: 8.3441 - val_accuracy: 0.0559\n",
            "Epoch 40/100\n",
            "92/92 [==============================] - 46s 498ms/step - loss: 0.7661 - accuracy: 0.9103 - val_loss: 8.4096 - val_accuracy: 0.0559\n",
            "Epoch 41/100\n",
            "92/92 [==============================] - 46s 500ms/step - loss: 0.7096 - accuracy: 0.9209 - val_loss: 8.4296 - val_accuracy: 0.0559\n",
            "Epoch 42/100\n",
            "92/92 [==============================] - 46s 503ms/step - loss: 0.6591 - accuracy: 0.9297 - val_loss: 8.5035 - val_accuracy: 0.0559\n",
            "Epoch 43/100\n",
            "92/92 [==============================] - 43s 474ms/step - loss: 0.6096 - accuracy: 0.9403 - val_loss: 8.5890 - val_accuracy: 0.0613\n",
            "Epoch 44/100\n",
            "92/92 [==============================] - 46s 499ms/step - loss: 0.5640 - accuracy: 0.9427 - val_loss: 8.6301 - val_accuracy: 0.0545\n",
            "Epoch 45/100\n",
            "92/92 [==============================] - 46s 505ms/step - loss: 0.5228 - accuracy: 0.9526 - val_loss: 8.6905 - val_accuracy: 0.0572\n",
            "Epoch 46/100\n",
            "92/92 [==============================] - 46s 502ms/step - loss: 0.4856 - accuracy: 0.9570 - val_loss: 8.7235 - val_accuracy: 0.0545\n",
            "Epoch 47/100\n",
            "92/92 [==============================] - 44s 476ms/step - loss: 0.4490 - accuracy: 0.9601 - val_loss: 8.7916 - val_accuracy: 0.0559\n",
            "Epoch 48/100\n",
            "92/92 [==============================] - 46s 497ms/step - loss: 0.4164 - accuracy: 0.9628 - val_loss: 8.8578 - val_accuracy: 0.0504\n",
            "Epoch 49/100\n",
            "92/92 [==============================] - 46s 498ms/step - loss: 0.3882 - accuracy: 0.9693 - val_loss: 8.9049 - val_accuracy: 0.0545\n",
            "Epoch 50/100\n",
            "92/92 [==============================] - 46s 503ms/step - loss: 0.3596 - accuracy: 0.9707 - val_loss: 8.9472 - val_accuracy: 0.0559\n",
            "Epoch 51/100\n",
            "92/92 [==============================] - 48s 521ms/step - loss: 0.3346 - accuracy: 0.9727 - val_loss: 8.9883 - val_accuracy: 0.0559\n",
            "Epoch 52/100\n",
            "92/92 [==============================] - 46s 503ms/step - loss: 0.3116 - accuracy: 0.9751 - val_loss: 9.0431 - val_accuracy: 0.0545\n",
            "Epoch 53/100\n",
            "92/92 [==============================] - 46s 501ms/step - loss: 0.2899 - accuracy: 0.9782 - val_loss: 9.0907 - val_accuracy: 0.0559\n",
            "Epoch 54/100\n",
            "92/92 [==============================] - 46s 497ms/step - loss: 0.2707 - accuracy: 0.9768 - val_loss: 9.1291 - val_accuracy: 0.0518\n",
            "Epoch 55/100\n",
            "92/92 [==============================] - 44s 476ms/step - loss: 0.2530 - accuracy: 0.9802 - val_loss: 9.1862 - val_accuracy: 0.0531\n",
            "Epoch 56/100\n",
            "92/92 [==============================] - 45s 491ms/step - loss: 0.2359 - accuracy: 0.9812 - val_loss: 9.2601 - val_accuracy: 0.0531\n",
            "Epoch 57/100\n",
            "92/92 [==============================] - 43s 473ms/step - loss: 0.2210 - accuracy: 0.9833 - val_loss: 9.2559 - val_accuracy: 0.0586\n",
            "Epoch 58/100\n",
            "92/92 [==============================] - 46s 500ms/step - loss: 0.2073 - accuracy: 0.9826 - val_loss: 9.3464 - val_accuracy: 0.0586\n",
            "Epoch 59/100\n",
            "92/92 [==============================] - 45s 488ms/step - loss: 0.1942 - accuracy: 0.9826 - val_loss: 9.3656 - val_accuracy: 0.0545\n",
            "Epoch 60/100\n",
            "92/92 [==============================] - 44s 476ms/step - loss: 0.1824 - accuracy: 0.9836 - val_loss: 9.4090 - val_accuracy: 0.0518\n",
            "Epoch 61/100\n",
            "92/92 [==============================] - 43s 474ms/step - loss: 0.1722 - accuracy: 0.9840 - val_loss: 9.4302 - val_accuracy: 0.0518\n",
            "Epoch 62/100\n",
            "92/92 [==============================] - 46s 497ms/step - loss: 0.1611 - accuracy: 0.9857 - val_loss: 9.4951 - val_accuracy: 0.0572\n",
            "Epoch 63/100\n",
            "92/92 [==============================] - 43s 471ms/step - loss: 0.1527 - accuracy: 0.9853 - val_loss: 9.5244 - val_accuracy: 0.0599\n",
            "Epoch 64/100\n",
            "92/92 [==============================] - 43s 468ms/step - loss: 0.1440 - accuracy: 0.9867 - val_loss: 9.5582 - val_accuracy: 0.0572\n",
            "Epoch 65/100\n",
            "92/92 [==============================] - 46s 496ms/step - loss: 0.1369 - accuracy: 0.9850 - val_loss: 9.5728 - val_accuracy: 0.0572\n",
            "Epoch 66/100\n",
            "92/92 [==============================] - 46s 499ms/step - loss: 0.1296 - accuracy: 0.9840 - val_loss: 9.6255 - val_accuracy: 0.0572\n",
            "Epoch 67/100\n",
            "92/92 [==============================] - 43s 472ms/step - loss: 0.1224 - accuracy: 0.9850 - val_loss: 9.6569 - val_accuracy: 0.0559\n",
            "Epoch 68/100\n",
            "92/92 [==============================] - 46s 497ms/step - loss: 0.1171 - accuracy: 0.9850 - val_loss: 9.6965 - val_accuracy: 0.0545\n",
            "Epoch 69/100\n",
            "92/92 [==============================] - 46s 506ms/step - loss: 0.1110 - accuracy: 0.9850 - val_loss: 9.7503 - val_accuracy: 0.0599\n",
            "Epoch 70/100\n",
            "92/92 [==============================] - 46s 496ms/step - loss: 0.1064 - accuracy: 0.9857 - val_loss: 9.7840 - val_accuracy: 0.0586\n",
            "Epoch 71/100\n",
            "92/92 [==============================] - 43s 466ms/step - loss: 0.1006 - accuracy: 0.9860 - val_loss: 9.8051 - val_accuracy: 0.0559\n",
            "Epoch 72/100\n",
            "92/92 [==============================] - 42s 462ms/step - loss: 0.0970 - accuracy: 0.9860 - val_loss: 9.8643 - val_accuracy: 0.0572\n",
            "Epoch 73/100\n",
            "92/92 [==============================] - 46s 498ms/step - loss: 0.0925 - accuracy: 0.9853 - val_loss: 9.9100 - val_accuracy: 0.0586\n",
            "Epoch 74/100\n",
            "92/92 [==============================] - 46s 497ms/step - loss: 0.0890 - accuracy: 0.9853 - val_loss: 9.9136 - val_accuracy: 0.0559\n",
            "Epoch 75/100\n",
            "92/92 [==============================] - 45s 490ms/step - loss: 0.0856 - accuracy: 0.9850 - val_loss: 9.9717 - val_accuracy: 0.0559\n",
            "Epoch 76/100\n",
            "92/92 [==============================] - 44s 470ms/step - loss: 0.0823 - accuracy: 0.9857 - val_loss: 9.9874 - val_accuracy: 0.0586\n",
            "Epoch 77/100\n",
            "92/92 [==============================] - 45s 489ms/step - loss: 0.0791 - accuracy: 0.9850 - val_loss: 10.0186 - val_accuracy: 0.0531\n",
            "Epoch 78/100\n",
            "92/92 [==============================] - 42s 460ms/step - loss: 0.0757 - accuracy: 0.9864 - val_loss: 10.0707 - val_accuracy: 0.0559\n",
            "Epoch 79/100\n",
            "92/92 [==============================] - 45s 486ms/step - loss: 0.0732 - accuracy: 0.9860 - val_loss: 10.0912 - val_accuracy: 0.0559\n",
            "Epoch 80/100\n",
            "92/92 [==============================] - 43s 467ms/step - loss: 0.0706 - accuracy: 0.9860 - val_loss: 10.1286 - val_accuracy: 0.0545\n",
            "Epoch 81/100\n",
            "92/92 [==============================] - 43s 465ms/step - loss: 0.0683 - accuracy: 0.9860 - val_loss: 10.1630 - val_accuracy: 0.0559\n",
            "Epoch 82/100\n",
            "92/92 [==============================] - 42s 462ms/step - loss: 0.0666 - accuracy: 0.9853 - val_loss: 10.1820 - val_accuracy: 0.0586\n",
            "Epoch 83/100\n",
            "92/92 [==============================] - 45s 490ms/step - loss: 0.0644 - accuracy: 0.9853 - val_loss: 10.2115 - val_accuracy: 0.0559\n",
            "Epoch 84/100\n",
            "92/92 [==============================] - 45s 492ms/step - loss: 0.0627 - accuracy: 0.9864 - val_loss: 10.2347 - val_accuracy: 0.0559\n",
            "Epoch 85/100\n",
            "92/92 [==============================] - 45s 491ms/step - loss: 0.0614 - accuracy: 0.9860 - val_loss: 10.2763 - val_accuracy: 0.0586\n",
            "Epoch 86/100\n",
            "92/92 [==============================] - 46s 498ms/step - loss: 0.0592 - accuracy: 0.9864 - val_loss: 10.3071 - val_accuracy: 0.0572\n",
            "Epoch 87/100\n",
            "92/92 [==============================] - 44s 475ms/step - loss: 0.0577 - accuracy: 0.9867 - val_loss: 10.3425 - val_accuracy: 0.0599\n",
            "Epoch 88/100\n",
            "92/92 [==============================] - 46s 497ms/step - loss: 0.0561 - accuracy: 0.9857 - val_loss: 10.3716 - val_accuracy: 0.0545\n",
            "Epoch 89/100\n",
            "92/92 [==============================] - 46s 499ms/step - loss: 0.0544 - accuracy: 0.9870 - val_loss: 10.4246 - val_accuracy: 0.0545\n",
            "Epoch 90/100\n",
            "92/92 [==============================] - 46s 504ms/step - loss: 0.0532 - accuracy: 0.9867 - val_loss: 10.4164 - val_accuracy: 0.0559\n",
            "Epoch 91/100\n",
            "92/92 [==============================] - 46s 504ms/step - loss: 0.0526 - accuracy: 0.9860 - val_loss: 10.4809 - val_accuracy: 0.0559\n",
            "Epoch 92/100\n",
            "92/92 [==============================] - 44s 476ms/step - loss: 0.0514 - accuracy: 0.9867 - val_loss: 10.4897 - val_accuracy: 0.0572\n",
            "Epoch 93/100\n",
            "92/92 [==============================] - 45s 484ms/step - loss: 0.0500 - accuracy: 0.9847 - val_loss: 10.5153 - val_accuracy: 0.0572\n",
            "Epoch 94/100\n",
            "92/92 [==============================] - 46s 497ms/step - loss: 0.0489 - accuracy: 0.9867 - val_loss: 10.5384 - val_accuracy: 0.0572\n",
            "Epoch 95/100\n",
            "92/92 [==============================] - 46s 499ms/step - loss: 0.0479 - accuracy: 0.9864 - val_loss: 10.5591 - val_accuracy: 0.0613\n",
            "Epoch 96/100\n",
            "92/92 [==============================] - 46s 506ms/step - loss: 0.0477 - accuracy: 0.9850 - val_loss: 10.5810 - val_accuracy: 0.0559\n",
            "Epoch 97/100\n",
            "92/92 [==============================] - 44s 475ms/step - loss: 0.0461 - accuracy: 0.9864 - val_loss: 10.6360 - val_accuracy: 0.0586\n",
            "Epoch 98/100\n",
            "92/92 [==============================] - 46s 496ms/step - loss: 0.0455 - accuracy: 0.9857 - val_loss: 10.6566 - val_accuracy: 0.0545\n",
            "Epoch 99/100\n",
            "92/92 [==============================] - 44s 474ms/step - loss: 0.0454 - accuracy: 0.9853 - val_loss: 10.6797 - val_accuracy: 0.0559\n",
            "Epoch 100/100\n",
            "92/92 [==============================] - 44s 474ms/step - loss: 0.0442 - accuracy: 0.9850 - val_loss: 10.6937 - val_accuracy: 0.0531\n"
          ]
        },
        {
          "output_type": "execute_result",
          "data": {
            "text/plain": [
              "<keras.src.callbacks.History at 0x7966855c66e0>"
            ]
          },
          "metadata": {},
          "execution_count": 20
        }
      ]
    },
    {
      "cell_type": "markdown",
      "source": [
        "model.summary()"
      ],
      "metadata": {
        "id": "vHjNRamKum9A"
      }
    }
  ]
}